{
 "cells": [
  {
   "cell_type": "markdown",
   "id": "3226925e",
   "metadata": {},
   "source": [
    "**Problem Tanımı:**\n"
   ]
  },
  {
   "cell_type": "markdown",
   "id": "d59dd0fb",
   "metadata": {},
   "source": [
    "ABC Şehri'ndeki bir kavşakta trafik ışıklarının kontrol sürelerini optimize etmek ve kavşaktaki araç bekleme sürelerini minimize etmek istiyoruz. Bu kavşak, sabah ve akşam saatlerinde yoğun trafik akışının olduğu bir bölgede yer almaktadır. Mevcut durumda, trafik ışıkları sabit sürelerle çalışmakta ve araçlar sık sık uzun süreler boyunca beklemektedir. Bu durum, trafiği yavaşlatmakta, stresli sürüş deneyimine neden olmakta ve yakıt tüketimini artırmaktadır.\n",
    "\n",
    "Bu sorunu çözmek için, bulanık mantık yöntemlerini kullanarak trafik ışıklarının kontrol sürelerini dinamik bir şekilde ayarlamayı hedefliyoruz. Bu şekilde, kavşaktaki araç yoğunluğuna ve trafik akışına bağlı olarak trafik ışıklarının yeşil süresini optimize edebiliriz. Böylece, araç bekleme sürelerini minimize ederek trafik akışını düzenleyebilir ve araçların daha hızlı ve güvenli bir şekilde kavşaktan geçmesini sağlayabiliriz.\n",
    "\n"
   ]
  },
  {
   "cell_type": "markdown",
   "id": "6cc73eae",
   "metadata": {},
   "source": [
    "**Girdi Değişkenleri**"
   ]
  },
  {
   "cell_type": "markdown",
   "id": "8b62047a",
   "metadata": {},
   "source": [
    "1.Araç Yoğunluğu (car_density): Kavşaktaki araç sayısının bir ölçüsüdür. Bu değişken, 0 ile 10 arasında sürekli bir değer alır. Daha yüksek değerler, kavşaktaki araç yoğunluğunun arttığını gösterir.\n",
    "\n",
    "\n",
    "2.Trafik Akışı (traffic_flow): Kavşaktaki trafik akışının bir ölçüsüdür. Bu değişken, 0 ile 10 arasında sürekli bir değer alır. Daha yüksek değerler, kavşaktaki trafik akışının arttığını gösterir."
   ]
  },
  {
   "cell_type": "markdown",
   "id": "abc000ea",
   "metadata": {},
   "source": [
    "**Çıktı Değişkeni**"
   ]
  },
  {
   "cell_type": "markdown",
   "id": "dbd4dad5",
   "metadata": {},
   "source": [
    "Trafik Işıklarının Kontrol Süresi (signal_duration): Bu değişken, trafik ışıklarının yeşil ışık süresini belirlemek için kullanılır. 0 ile 30 arasında sürekli bir değer alır. Daha yüksek değerler, yeşil ışık süresinin uzadığını gösterir."
   ]
  },
  {
   "cell_type": "markdown",
   "id": "81c32ef7",
   "metadata": {},
   "source": [
    "**Kısıtlar**"
   ]
  },
  {
   "cell_type": "markdown",
   "id": "942d48bd",
   "metadata": {},
   "source": [
    "1.Araç yoğunluğu ve trafik akışı, 0 ile 10 arasında bir değer almalıdır.\n",
    "\n",
    "\n",
    "2.Trafik ışıklarının kontrol süresi, 0 ile 30 arasında bir değer almalıdır."
   ]
  },
  {
   "cell_type": "markdown",
   "id": "5caf9a2c",
   "metadata": {},
   "source": [
    "**Amaç fonksiyonu**"
   ]
  },
  {
   "cell_type": "markdown",
   "id": "99cae6fd",
   "metadata": {},
   "source": [
    "1.Araç bekleme sürelerini minimize etmek: Trafik akışını optimize etmek ve kavşakta araç bekleme sürelerini mümkün olduğunca azaltmak hedeflenir.\n",
    "\n",
    "\n",
    "2.Trafik akışını optimize etmek: Trafik akışını düzenlemek ve araç trafiğinin daha akıcı olmasını sağlamak amaçlanır.\n",
    "\n",
    "\n",
    "3.Yaya trafiği için uygun geçiş sürelerini sağlamak: Yaya trafiğine uygun geçiş süreleri tanımlamak ve yaya güvenliğini ön planda tutmak hedeflenir."
   ]
  },
  {
   "cell_type": "markdown",
   "id": "afd49118",
   "metadata": {},
   "source": [
    "**W_max = α * (1 - V) + β * (1 - F)**\n",
    "\n",
    "\n"
   ]
  },
  {
   "cell_type": "code",
   "execution_count": 7,
   "id": "e59784eb",
   "metadata": {},
   "outputs": [
    {
     "name": "stdout",
     "output_type": "stream",
     "text": [
      "Signal Duration: 17.586206896551726\n"
     ]
    }
   ],
   "source": [
    "import numpy as np\n",
    "import skfuzzy as fuzz\n",
    "from skfuzzy import control as ctrl\n",
    "\n",
    "# Girdi değişkenlerini tanımlama\n",
    "car_density = ctrl.Antecedent(np.arange(0, 11, 1), 'car_density')\n",
    "traffic_flow = ctrl.Antecedent(np.arange(0, 11, 1), 'traffic_flow')\n",
    "\n",
    "# Çıktı değişkenini tanımlama\n",
    "signal_duration = ctrl.Consequent(np.arange(0, 31, 1), 'signal_duration')\n",
    "\n",
    "# Girdi değişkenleri için üyelik fonksiyonlarını tanımlama\n",
    "car_density['low'] = fuzz.trimf(car_density.universe, [0, 0, 5])\n",
    "car_density['medium'] = fuzz.trimf(car_density.universe, [0, 5, 10])\n",
    "car_density['high'] = fuzz.trimf(car_density.universe, [5, 10, 10])\n",
    "\n",
    "traffic_flow['low'] = fuzz.trimf(traffic_flow.universe, [0, 0, 5])\n",
    "traffic_flow['medium'] = fuzz.trimf(traffic_flow.universe, [0, 5, 10])\n",
    "traffic_flow['high'] = fuzz.trimf(traffic_flow.universe, [5, 10, 10])\n",
    "\n",
    "# Çıktı değişkeni için üyelik fonksiyonlarını tanımlama\n",
    "signal_duration['short'] = fuzz.trimf(signal_duration.universe, [0, 0, 10])\n",
    "signal_duration['medium'] = fuzz.trimf(signal_duration.universe, [0, 10, 20])\n",
    "signal_duration['long'] = fuzz.trimf(signal_duration.universe, [10, 20, 30])\n",
    "\n",
    "# Kuralları tanımlama\n",
    "rule1 = ctrl.Rule(car_density['low'] & traffic_flow['low'], signal_duration['short'])\n",
    "rule2 = ctrl.Rule(car_density['low'] & traffic_flow['medium'], signal_duration['medium'])\n",
    "rule3 = ctrl.Rule(car_density['low'] & traffic_flow['high'], signal_duration['long'])\n",
    "rule4 = ctrl.Rule(car_density['medium'] & traffic_flow['low'], signal_duration['medium'])\n",
    "rule5 = ctrl.Rule(car_density['medium'] & traffic_flow['medium'], signal_duration['medium'])\n",
    "rule6 = ctrl.Rule(car_density['medium'] & traffic_flow['high'], signal_duration['long'])\n",
    "rule7 = ctrl.Rule(car_density['high'] & traffic_flow['low'], signal_duration['long'])\n",
    "rule8 = ctrl.Rule(car_density['high'] & traffic_flow['medium'], signal_duration['long'])\n",
    "rule9 = ctrl.Rule(car_density['high'] & traffic_flow['high'], signal_duration['long'])\n",
    "\n",
    "# Kontrol sistemi tanımlama\n",
    "traffic_light_ctrl = ctrl.ControlSystem([rule1, rule2, rule3, rule4, rule5, rule6, rule7, rule8, rule9])\n",
    "traffic_light = ctrl.ControlSystemSimulation(traffic_light_ctrl)\n",
    "\n",
    "# Girdi değerlerini ayarlama\n",
    "traffic_light.input['car_density'] = 9\n",
    "traffic_light.input['traffic_flow'] = 9\n",
    "\n",
    "# Çıktıyı hesaplama\n",
    "traffic_light.compute()\n",
    "\n",
    "# Çıktıyı yazdırma\n",
    "print(\"Signal Duration:\", traffic_light.output['signal_duration'])\n"
   ]
  },
  {
   "cell_type": "code",
   "execution_count": null,
   "id": "63eb12eb",
   "metadata": {},
   "outputs": [],
   "source": []
  }
 ],
 "metadata": {
  "kernelspec": {
   "display_name": "Python 3.10 (tensorflow)",
   "language": "python",
   "name": "tensorflow"
  },
  "language_info": {
   "codemirror_mode": {
    "name": "ipython",
    "version": 3
   },
   "file_extension": ".py",
   "mimetype": "text/x-python",
   "name": "python",
   "nbconvert_exporter": "python",
   "pygments_lexer": "ipython3",
   "version": "3.9.16"
  }
 },
 "nbformat": 4,
 "nbformat_minor": 5
}
