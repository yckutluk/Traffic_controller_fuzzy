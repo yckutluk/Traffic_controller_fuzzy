{
 "cells": [
  {
   "cell_type": "code",
   "execution_count": null,
   "id": "188a9c6e",
   "metadata": {},
   "outputs": [],
   "source": []
  },
  {
   "cell_type": "code",
   "execution_count": null,
   "id": "a33e1f8f",
   "metadata": {},
   "outputs": [],
   "source": []
  },
  {
   "cell_type": "code",
   "execution_count": null,
   "id": "25793c9c",
   "metadata": {},
   "outputs": [],
   "source": []
  },
  {
   "cell_type": "code",
   "execution_count": null,
   "id": "bceb540c",
   "metadata": {},
   "outputs": [],
   "source": []
  },
  {
   "cell_type": "code",
   "execution_count": null,
   "id": "af4eaac5",
   "metadata": {},
   "outputs": [],
   "source": []
  },
  {
   "cell_type": "code",
   "execution_count": 2,
   "id": "db120bf4",
   "metadata": {},
   "outputs": [],
   "source": [
    "import numpy as np\n",
    "import skfuzzy as fuzz\n",
    "from skfuzzy import control as ctrl"
   ]
  },
  {
   "cell_type": "code",
   "execution_count": 3,
   "id": "1ca7b0f8",
   "metadata": {},
   "outputs": [],
   "source": [
    "# Girdi değişkenlerini tanımlama\n",
    "car_density = ctrl.Antecedent(np.arange(1, 6), 'car_density')\n",
    "traffic_flow = ctrl.Antecedent(np.arange(10, 51), 'traffic_flow')\n",
    "\n",
    "# Çıktı değişkenini tanımlama\n",
    "signal_duration = ctrl.Consequent(np.arange(0, 31), 'signal_duration')\n",
    "\n",
    "# Girdi değişkenleri için üyelik fonksiyonlarını tanımlama\n",
    "car_density['Minimal'] = fuzz.trimf(car_density.universe, [1, 1, 3])\n",
    "car_density['Light'] = fuzz.trimf(car_density.universe, [1, 3, 5])\n",
    "car_density['Average'] = fuzz.trimf(car_density.universe, [3, 5, 5])\n",
    "car_density['Heavy'] = fuzz.trimf(car_density.universe, [3, 5, 5])\n",
    "car_density['Excess'] = fuzz.trimf(car_density.universe, [5, 5, 5])\n",
    "\n",
    "traffic_flow['Minimal'] = fuzz.trimf(traffic_flow.universe, [10, 10, 20])\n",
    "traffic_flow['Light'] = fuzz.trimf(traffic_flow.universe, [10, 20, 30])\n",
    "traffic_flow['Average'] = fuzz.trimf(traffic_flow.universe, [20, 30, 40])\n",
    "traffic_flow['Heavy'] = fuzz.trimf(traffic_flow.universe, [30, 40, 50])\n",
    "traffic_flow['Excess'] = fuzz.trimf(traffic_flow.universe, [50, 50, 50])\n",
    "\n",
    "# Çıktı değişkeni için üyelik fonksiyonlarını tanımlama\n",
    "signal_duration['Short'] = fuzz.trimf(signal_duration.universe, [0, 0, 10])\n",
    "signal_duration['Medium'] = fuzz.trimf(signal_duration.universe, [0, 10, 20])\n",
    "signal_duration['Long'] = fuzz.trimf(signal_duration.universe, [10, 20, 30])\n"
   ]
  },
  {
   "cell_type": "code",
   "execution_count": 5,
   "id": "5b7ab9e8",
   "metadata": {},
   "outputs": [],
   "source": [
    "# Girdi değişkenleri için üyelik fonksiyonlarını tanımlama\n",
    "car_density['Minimal'] = fuzz.trimf(car_density.universe, [1, 1, 3])\n",
    "car_density['Light'] = fuzz.trimf(car_density.universe, [1, 3, 5])\n",
    "car_density['Average'] = fuzz.trimf(car_density.universe, [3, 5, 5])\n",
    "car_density['Heavy'] = fuzz.trimf(car_density.universe, [3, 5, 5])\n",
    "car_density['Excess'] = fuzz.trimf(car_density.universe, [5, 5, 5])\n",
    "\n",
    "traffic_flow['Minimal'] = fuzz.trimf(traffic_flow.universe, [10, 10, 20])\n",
    "traffic_flow['Light'] = fuzz.trimf(traffic_flow.universe, [10, 20, 30])\n",
    "traffic_flow['Average'] = fuzz.trimf(traffic_flow.universe, [20, 30, 40])\n",
    "traffic_flow['Heavy'] = fuzz.trimf(traffic_flow.universe, [30, 40, 50])\n",
    "traffic_flow['Excess'] = fuzz.trimf(traffic_flow.universe, [50, 50, 50])\n",
    "\n",
    "# Çıktı değişkeni için üyelik fonksiyonlarını tanımlama\n",
    "signal_duration['Short'] = fuzz.trimf(signal_duration.universe, [0, 0, 10])\n",
    "signal_duration['Medium'] = fuzz.trimf(signal_duration.universe, [0, 10, 20])\n",
    "signal_duration['Long'] = fuzz.trimf(signal_duration.universe, [10, 20, 30])\n",
    "\n",
    "# Kuralları tanımlama\n",
    "rule1 = ctrl.Rule(car_density['Minimal'] & traffic_flow['Minimal'], signal_duration['Short'])\n",
    "rule2 = ctrl.Rule(car_density['Minimal'] & traffic_flow['Light'], signal_duration['Short'])\n",
    "rule3 = ctrl.Rule(car_density['Minimal'] & traffic_flow['Average'], signal_duration['Medium'])\n",
    "rule4 = ctrl.Rule(car_density['Minimal'] & traffic_flow['Heavy'], signal_duration['Long'])\n",
    "rule5 = ctrl.Rule(car_density['Minimal'] & traffic_flow['Excess'], signal_duration['Long'])\n",
    "rule6 = ctrl.Rule(car_density['Light'] & traffic_flow['Minimal'], signal_duration['Short'])\n",
    "rule7 = ctrl.Rule(car_density['Light'] & traffic_flow['Light'], signal_duration['Short'])\n",
    "rule8 = ctrl.Rule(car_density['Light'] & traffic_flow['Average'], signal_duration['Medium'])\n",
    "rule9 = ctrl.Rule(car_density['Light'] & traffic_flow['Heavy'], signal_duration['Medium'])\n",
    "rule10 = ctrl.Rule(car_density['Light'] & traffic_flow['Excess'], signal_duration['Long'])\n",
    "rule11 = ctrl.Rule(car_density['Average'] & traffic_flow['Minimal'], signal_duration['Short'])\n",
    "rule12 = ctrl.Rule(car_density['Average'] & traffic_flow['Light'], signal_duration['Medium'])\n",
    "# Kuralları tamamlama\n",
    "rule13 = ctrl.Rule(car_density['Average'] & traffic_flow['Average'], signal_duration['Medium'])\n",
    "rule14 = ctrl.Rule(car_density['Average'] & traffic_flow['Heavy'], signal_duration['Long'])\n",
    "rule15 = ctrl.Rule(car_density['Average'] & traffic_flow['Excess'], signal_duration['Long'])\n",
    "rule16 = ctrl.Rule(car_density['Heavy'] & traffic_flow['Minimal'], signal_duration['Medium'])\n",
    "rule17 = ctrl.Rule(car_density['Heavy'] & traffic_flow['Light'], signal_duration['Medium'])\n",
    "rule18 = ctrl.Rule(car_density['Heavy'] & traffic_flow['Average'], signal_duration['Long'])\n",
    "rule19 = ctrl.Rule(car_density['Heavy'] & traffic_flow['Heavy'], signal_duration['Long'])\n",
    "rule20 = ctrl.Rule(car_density['Heavy'] & traffic_flow['Excess'], signal_duration['Long'])\n",
    "rule21 = ctrl.Rule(car_density['Excess'] & traffic_flow['Minimal'], signal_duration['Medium'])\n",
    "rule22 = ctrl.Rule(car_density['Excess'] & traffic_flow['Light'], signal_duration['Long'])\n",
    "rule23 = ctrl.Rule(car_density['Excess'] & traffic_flow['Average'], signal_duration['Long'])\n",
    "rule24 = ctrl.Rule(car_density['Excess'] & traffic_flow['Heavy'], signal_duration['Long'])\n",
    "rule25 = ctrl.Rule(car_density['Excess'] & traffic_flow['Excess'], signal_duration['Long'])\n",
    "\n",
    "# Kontrol sistemi tanımlama\n",
    "traffic_light_ctrl = ctrl.ControlSystem([rule1, rule2, rule3, rule4, rule5, rule6, rule7, rule8, rule9,\n",
    "                                         rule10, rule11, rule12, rule13, rule14, rule15, rule16, rule17,\n",
    "                                         rule18, rule19, rule20, rule21, rule22, rule23, rule24, rule25])\n",
    "traffic_light = ctrl.ControlSystemSimulation(traffic_light_ctrl)\n"
   ]
  },
  {
   "cell_type": "code",
   "execution_count": 14,
   "id": "bb6b20fb",
   "metadata": {},
   "outputs": [
    {
     "name": "stdout",
     "output_type": "stream",
     "text": [
      "Signal Duration: 14.999999999999996\n"
     ]
    }
   ],
   "source": [
    "# Girdi değerlerini ayarlama\n",
    "traffic_light.input['car_density'] = 50\n",
    "traffic_light.input['traffic_flow'] = 30\n",
    "\n",
    "# Çıktıyı hesaplama\n",
    "traffic_light.compute()\n",
    "\n",
    "# Çıktıyı yazdırma\n",
    "print(\"Signal Duration:\", traffic_light.output['signal_duration'])\n"
   ]
  },
  {
   "cell_type": "code",
   "execution_count": null,
   "id": "70ed0032",
   "metadata": {},
   "outputs": [],
   "source": []
  }
 ],
 "metadata": {
  "kernelspec": {
   "display_name": "Python 3.10 (tensorflow)",
   "language": "python",
   "name": "tensorflow"
  },
  "language_info": {
   "codemirror_mode": {
    "name": "ipython",
    "version": 3
   },
   "file_extension": ".py",
   "mimetype": "text/x-python",
   "name": "python",
   "nbconvert_exporter": "python",
   "pygments_lexer": "ipython3",
   "version": "3.9.16"
  }
 },
 "nbformat": 4,
 "nbformat_minor": 5
}
