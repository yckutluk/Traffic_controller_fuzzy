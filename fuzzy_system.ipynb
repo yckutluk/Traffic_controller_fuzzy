{
 "cells": [
  {
   "cell_type": "markdown",
   "metadata": {},
   "source": [
    "![Alternatif Metin](https://img.imgyukle.com/2023/05/31/r5oP3c.jpeg)"
   ]
  },
  {
   "cell_type": "markdown",
   "metadata": {},
   "source": [
    "<span style=\"font-size:18px;\">Trafik yönetimi, günümüzde büyük şehirlerdeki trafiğin etkin bir şekilde yönlendirilmesini ve sürdürülebilir bir ulaşım sistemine katkı sağlamayı amaçlayan önemli bir sorundur. Trafik sıkışıklığı, enerji tüketimi, emisyon salınımı ve yolculuk süresi gibi faktörler, trafik yönetiminin önemli zorlukları arasındadır. Geleneksel trafik kontrol yöntemleri, bu zorlukları ele almak için kullanılmış olsa da, karmaşık trafik koşullarında etkili sonuçlar üretmekte sınırlı kalmaktadır.</span>\n",
    "\n",
    "<span style=\"font-size:18px;\">Bulanık mantık, belirsizlik ve karmaşıklık içeren problemleri çözmek için kullanılan bir yöntemdir. Bu yöntem, insan düşünme sürecini taklit ederek, bulanık kavramları ve dilbilimsel ifadeleri kullanarak bilgiyi modellemektedir. Trafik yönetimi alanında bulanık mantık, trafik koşullarını ve sürücü davranışlarını daha iyi anlamak ve trafik sıkışıklığını azaltmak için kullanılmaktadır.</span>\n",
    "\n",
    "<span style=\"font-size:18px;\">Bu çalışmada, bulanık mantık yöntemlerinin kullanıldığı bir trafik ışığı kontrol sistemi geliştirilmektedir. Trafik akışını etkileyen değişkenler, araç yoğunluğu, ortalama bekleme süresi ve yeşil ışık süresi gibi faktörlerdir. Bu değişkenlerin bulanık üyelik fonksiyonlarıyla temsil edilerek, trafik ışığı kontrol süresinin hesaplanması sağlanmaktadır. Mamdani bulanık mantık yöntemi kullanılarak, trafik durumuna göre yeşil ışık süresi belirlenmekte ve böylece trafik akışı daha verimli bir şekilde yönetilmektedir.</span>\n",
    "\n",
    "<span style=\"font-size:18px;\">Bulanık mantık yöntemlerinin trafik yönetimi alanında kullanımı, trafik sıkışıklığını azaltma, enerji verimliliğini artırma ve yolculuk sürelerini kısaltma gibi önemli avantajlar sağlamaktadır. Bu çalışma, trafik yönetimi problemlerine bulanık mantık yöntemlerinin nasıl uygulanabileceğini göstererek, daha etkin ve akıllı trafik kontrol sistemleri geliştirme potansiyelini ortaya koymaktadır.</span>\n"
   ]
  },
  {
   "cell_type": "markdown",
   "metadata": {},
   "source": [
    "![Alternatif Metin](https://img.imgyukle.com/2023/05/31/r5Eoio.jpeg)"
   ]
  },
  {
   "cell_type": "markdown",
   "metadata": {},
   "source": [
    "      "
   ]
  },
  {
   "cell_type": "markdown",
   "metadata": {},
   "source": [
    "      "
   ]
  },
  {
   "cell_type": "markdown",
   "metadata": {},
   "source": [
    "![Alternatif Metin](https://img.imgyukle.com/2023/05/31/r55QdY.jpeg)"
   ]
  },
  {
   "cell_type": "markdown",
   "metadata": {},
   "source": [
    "     "
   ]
  },
  {
   "cell_type": "markdown",
   "metadata": {},
   "source": [
    "    "
   ]
  },
  {
   "cell_type": "markdown",
   "metadata": {},
   "source": [
    "    "
   ]
  },
  {
   "cell_type": "markdown",
   "metadata": {},
   "source": [
    "![Alternatif Metin](https://img.imgyukle.com/2023/05/31/r5VTqR.jpeg)"
   ]
  },
  {
   "cell_type": "markdown",
   "metadata": {},
   "source": [
    "   "
   ]
  },
  {
   "cell_type": "markdown",
   "metadata": {},
   "source": [
    "     "
   ]
  },
  {
   "cell_type": "markdown",
   "metadata": {},
   "source": [
    "   "
   ]
  },
  {
   "cell_type": "markdown",
   "metadata": {},
   "source": [
    "   "
   ]
  },
  {
   "cell_type": "markdown",
   "metadata": {},
   "source": [
    "<font  size=\"6\">**Girdi değişkenleri**</font>"
   ]
  },
  {
   "cell_type": "markdown",
   "metadata": {},
   "source": [
    "<span style=\"font-size:18px;\">**1.Vehicle_per_minute:** Dakika başına düşen araç sayısını temsil eder. Bu değişken, trafik yoğunluğunu ifade edebilir. Örneğin, 0 ile 40 arasında değerler alabilir ve her bir değer araç trafiğinin yoğunluğunu temsil eder. Değerlerin aralığı 0'dan 40'a kadar olduğu için düşük yoğunluktan yüksek yoğunluğa doğru bir skalaya sahiptir.</span>\n",
    "\n",
    "\n",
    "<span style=\"font-size:18px;\">**2.Vehicle_average_waiting_time_second**: Ortalama araç bekleme süresini temsil eder. Bu değişken, araçların kavşakta ortalama olarak ne kadar süre beklediğini ifade eder. Örneğin, 0 ile 20 arasında değerler alabilir ve her bir değer araçların ortalama bekleme süresini saniye cinsinden temsil eder.</span>\n",
    "\n",
    "<span style=\"font-size:18px;\">Bu girdi değişkenleri, sistemin davranışını veya çıktısını belirlemek için kullanılır. Farklı girdi değerlerine göre, sistem çıktıları veya kontrolleri değişebilir. Örneğin, araç yoğunluğu arttıkça yeşil ışık süresi uzayabilir veya araçların bekleme süresi artabilir. Bu değişkenler, fuzzy mantık kuralları ve çıkarım motoru kullanılarak sistem davranışının kontrolünde önemli bir rol oynar.</span>"
   ]
  },
  {
   "cell_type": "markdown",
   "metadata": {},
   "source": [
    "<font  size=\"6\">**Çıktı Değişkeni**</font>"
   ]
  },
  {
   "cell_type": "markdown",
   "metadata": {},
   "source": [
    "<span style=\"font-size:18px;\">**Green_time_second:** Yeşil ışığın süresini temsil eder. Bu değişken, yeşil ışığın ne kadar süreyle aktif olacağını belirler. Örneğin, 0 ile 120 arasında değerler alabilir ve her bir değer yeşil ışığın süresini saniye cinsinden ifade eder.</span>"
   ]
  },
  {
   "cell_type": "code",
   "execution_count": 1,
   "metadata": {
    "colab": {
     "base_uri": "https://localhost:8080/"
    },
    "id": "c6UMTKxzfm2Y",
    "outputId": "a523a26c-5f75-4b2e-9e27-8decf20a673e"
   },
   "outputs": [],
   "source": [
    "import matplotlib as mpl\n",
    "import matplotlib.pyplot as plt"
   ]
  },
  {
   "cell_type": "code",
   "execution_count": 2,
   "metadata": {
    "id": "oIVfvU3zftU-"
   },
   "outputs": [],
   "source": [
    "import numpy as np\n",
    "import skfuzzy as fuzz\n",
    "from skfuzzy import control as ctrl"
   ]
  },
  {
   "cell_type": "code",
   "execution_count": 3,
   "metadata": {
    "id": "w5QA0TTJfylX"
   },
   "outputs": [],
   "source": [
    "#Giriş ve çıkış değişkenlerinin değer aralıklarını tanımlama\n",
    "\n",
    "vehicle_per_minute= np.arange(0,40,1)\n",
    "green_time_second = np.arange(0,120,1)\n",
    "vehicle_average_waiting_time_second = np.arange(0,20,1)\n"
   ]
  },
  {
   "cell_type": "markdown",
   "metadata": {},
   "source": [
    "  "
   ]
  },
  {
   "cell_type": "markdown",
   "metadata": {},
   "source": [
    "    "
   ]
  },
  {
   "cell_type": "markdown",
   "metadata": {},
   "source": [
    "    "
   ]
  },
  {
   "cell_type": "markdown",
   "metadata": {},
   "source": [
    "<span style=\"font-size:18px;\"> fuzz.trapmf fonksiyon , giriş ve çıkış değişkenleri için dilbilimsel terimlerle bulanık üyelik fonksiyonlarını oluşturmayı sağlar. İlgili değişkenlerin tanımlanması ve her bir dilbilimsel terimin trapezoidal şekilde ifade edilmesi üzerine kuruludur.</span>"
   ]
  },
  {
   "cell_type": "markdown",
   "metadata": {},
   "source": [
    "     "
   ]
  },
  {
   "cell_type": "markdown",
   "metadata": {},
   "source": [
    "![Alternatif Metin](https://img.imgyukle.com/2023/05/31/r5nxCn.jpeg)"
   ]
  },
  {
   "cell_type": "code",
   "execution_count": 4,
   "metadata": {},
   "outputs": [],
   "source": [
    "#Her giriş/çıkış değişkeni için ilgili dilbilimsel terimlerle bulanık üyelik fonksiyonlarının oluşturulduğu adımlar\n",
    "\n",
    "low_average_vpm = fuzz.trapmf(vehicle_per_minute, [0,0,5,10])\n",
    "medium_average_vpm = fuzz.trapmf(vehicle_per_minute, [5,10,15,20])\n",
    "high_average_vpm = fuzz.trapmf(vehicle_per_minute, [15,20,40,40])\n",
    "\n",
    "low_average_vwt = fuzz.trapmf(vehicle_average_waiting_time_second, [0,0,8,10])\n",
    "medium_average_vwt = fuzz.trapmf(vehicle_average_waiting_time_second, [8,10,12,14])\n",
    "high_average_vwt = fuzz.trapmf(vehicle_average_waiting_time_second,[12,14,20,20])\n",
    "\n",
    "short_green_time = fuzz.trapmf(green_time_second, [15,15,30,45])\n",
    "medium_green_time = fuzz.trapmf(green_time_second, [30,45,60,75])\n",
    "long_green_time = fuzz.trapmf(green_time_second, [60,75,120,120])"
   ]
  },
  {
   "cell_type": "markdown",
   "metadata": {},
   "source": [
    "     "
   ]
  },
  {
   "cell_type": "markdown",
   "metadata": {},
   "source": [
    "    "
   ]
  },
  {
   "cell_type": "markdown",
   "metadata": {},
   "source": [
    "<span style=\"font-size:18px;\">İlk kod bloğunda vehicle_per_minute giriş değişkeni için araç sayısının ortalama düzeyini temsil eden üyelik fonksiyonlarını oluşturur.</span>\n",
    "\n",
    "<span style=\"font-size:18px;\">**low_average_vpm**: Bu üyelik fonksiyonu, araç sayısının düşük seviyede olduğu durumu temsil eder. Trapezoidal bir üyelik fonksiyonu kullanılarak tanımlanmıştır. Araç sayısı 0'dan başlayarak 5'e kadar düşük seviyededir ve 5'ten sonra yavaşça artarak 10'da ortalama seviyeye ulaşır.</span>\n",
    "\n",
    "<span style=\"font-size:18px;\">**medium_average_vpm**: Bu üyelik fonksiyonu, araç sayısının orta seviyede olduğu durumu temsil eder. Araç sayısı 5'ten başlayarak 10'a kadar yavaşça artar ve 10'dan sonra daha hızlı bir şekilde artarak 15'te orta seviyeye ulaşır. 15'ten sonra ise yavaşça artışını sürdürerek 20'de sonlanır.</span>\n",
    "\n",
    "<span style=\"font-size:18px;\">**high_average_vpm**: Bu üyelik fonksiyonu, araç sayısının yüksek seviyede olduğu durumu temsil eder. Araç sayısı 15'ten başlayarak 20'ye kadar hızlı bir şekilde artar ve 20'den sonra ise yavaşça artışını sürdürerek 40'de sonlanır.</span>"
   ]
  },
  {
   "cell_type": "markdown",
   "metadata": {},
   "source": [
    "    "
   ]
  },
  {
   "cell_type": "markdown",
   "metadata": {},
   "source": [
    "<span style=\"font-size:18px;\">İkinci kod bloğunda vehicle_average_waiting_time_second giriş değişkeni için araçların ortalama bekleme süresini temsil eden üyelik fonksiyonlarını oluşturur.</span>\n",
    "\n",
    "<span style=\"font-size:18px;\">**low_average_vwt**: Bu üyelik fonksiyonu, araçların düşük bekleme süresiyle beklediği durumu temsil eder. Trapezoidal bir üyelik fonksiyonu kullanılarak tanımlanmıştır. Bekleme süresi 0'dan başlayarak 8'e kadar düşük seviyededir ve 8'den sonra yavaşça artarak 10'da ortalama seviyeye ulaşır.</span>\n",
    "\n",
    "<span style=\"font-size:18px;\">**medium_average_vwt**: Bu üyelik fonksiyonu, araçların orta bekleme süresiyle beklediği durumu temsil eder. Bekleme süresi 8'den başlayarak 10'a kadar yavaşça artar ve 10'dan sonra daha hızlı bir şekilde artarak 12'de orta seviyeye ulaşır. 12'den sonra ise yavaşça artışını sürdürerek 14'te sonlanır.</span>\n",
    "\n",
    "<span style=\"font-size:18px;\">**high_average_vwt**: Bu üyelik fonksiyonu, araçların yüksek bekleme süresiyle beklediği durumu temsil eder. Bekleme süresi 12'den başlayarak 14'e kadar hızlı bir şekilde artar ve 20'de sabit bir yüksek seviyeye ulaşır.</span>\n",
    "\n"
   ]
  },
  {
   "cell_type": "markdown",
   "metadata": {},
   "source": [
    "   "
   ]
  },
  {
   "cell_type": "markdown",
   "metadata": {},
   "source": [
    "<span style=\"font-size:18px;\">Son kod bloğu ise green_time_second giriş değişkeni için yeşil ışık süresini temsil eden üyelik fonksiyonlarını oluşturur.</span>\n",
    "\n",
    "<span style=\"font-size:18px;\">**short_green_time**: Bu üyelik fonksiyonu, kısa yeşil ışık süresini temsil eder. Trapezoidal bir üyelik fonksiyonu kullanılarak tanımlanmıştır. Yeşil ışık süresi 15 saniyeden başlayarak 30 saniyede kadar düşük seviyededir ve 30 saniyeden sonra yavaşça artarak 45 saniyede ulaşır.</span>\n",
    "\n",
    "<span style=\"font-size:18px;\">**medium_green_time**: Bu üyelik fonksiyonu, orta uzunlukta yeşil ışık süresini temsil eder. Yeşil ışık süresi 30 saniyeden başlayarak 45 saniyede kadar yavaşça artar ve 45 saniyeden sonra daha hızlı bir şekilde artarak 60 saniyede orta seviyeye ulaşır. 60 saniyeden sonra ise yavaşça artışını sürdürerek 75 saniyede sonlanır.</span>\n",
    "\n",
    "<span style=\"font-size:18px;\">**long_green_time**: Bu üyelik fonksiyonu, uzun yeşil ışık süresini temsil eder. Yeşil ışık süresi 60 saniyeden başlayarak 75 saniyede yavaşça artar ve 75 saniyede sabit bir yüksek seviyeye ulaşır. 120 saniyeden sonra ise sabit olarak devam eder.</span>"
   ]
  },
  {
   "cell_type": "markdown",
   "metadata": {
    "id": "NVwBGz8zf2kl"
   },
   "source": [
    "    "
   ]
  },
  {
   "cell_type": "code",
   "execution_count": 5,
   "metadata": {
    "colab": {
     "base_uri": "https://localhost:8080/",
     "height": 282
    },
    "id": "fQNVlSrKgDO7",
    "outputId": "605bd77b-44ef-42fc-904a-a696d00dc360"
   },
   "outputs": [
    {
     "data": {
      "text/plain": [
       "<matplotlib.legend.Legend at 0x126d44580>"
      ]
     },
     "execution_count": 5,
     "metadata": {},
     "output_type": "execute_result"
    },
    {
     "data": {
      "image/png": "[encoded data removed]",
      "text/plain": [
       "<Figure size 432x288 with 1 Axes>"
      ]
     },
     "metadata": {
      "needs_background": "light"
     },
     "output_type": "display_data"
    }
   ],
   "source": [
    "#Dakika başına ortalama araç üyelik fonksiyonlarının çizilmesi\n",
    "\n",
    "plt.plot(vehicle_per_minute,low_average_vpm,'r',linewidth=2,label=\"Low Average VPM\")\n",
    "plt.plot(vehicle_per_minute,medium_average_vpm,'b',linewidth=2,label=\"Medium Average VPM\")\n",
    "plt.plot(vehicle_per_minute,high_average_vpm,'y',linewidth=2,label=\"High Average VPM\")\n",
    "plt.legend()\n",
    "\n"
   ]
  },
  {
   "cell_type": "code",
   "execution_count": 6,
   "metadata": {
    "colab": {
     "base_uri": "https://localhost:8080/",
     "height": 282
    },
    "id": "INRbCo60lmgA",
    "outputId": "e18b5947-e9c2-4ac8-8edb-d0c2ce66508a"
   },
   "outputs": [
    {
     "data": {
      "text/plain": [
       "<matplotlib.legend.Legend at 0x126c6dc70>"
      ]
     },
     "execution_count": 6,
     "metadata": {},
     "output_type": "execute_result"
    },
    {
     "data": {
      "image/png": "[encoded data removed]",
      "text/plain": [
       "<Figure size 432x288 with 1 Axes>"
      ]
     },
     "metadata": {
      "needs_background": "light"
     },
     "output_type": "display_data"
    }
   ],
   "source": [
    "#Ortalama araç bekleme süresi üyelik fonksiyonlarının çizilmesi\n",
    "\n",
    "plt.plot(vehicle_average_waiting_time_second,low_average_vwt,'b',linewidth=2,label=\"Low Average VWT\")\n",
    "plt.plot(vehicle_average_waiting_time_second,medium_average_vwt,'r',linewidth=2,label=\"Medium Average VWT\")\n",
    "plt.plot(vehicle_average_waiting_time_second,high_average_vwt,'g',linewidth=2,label=\"High Average VWT\")\n",
    "plt.legend()"
   ]
  },
  {
   "cell_type": "code",
   "execution_count": 7,
   "metadata": {
    "colab": {
     "base_uri": "https://localhost:8080/",
     "height": 282
    },
    "id": "u4VKefa3eAaL",
    "outputId": "83838e68-e452-4418-85dd-d896955943c1"
   },
   "outputs": [
    {
     "data": {
      "text/plain": [
       "(15.0, 124.95)"
      ]
     },
     "execution_count": 7,
     "metadata": {},
     "output_type": "execute_result"
    },
    {
     "data": {
      "image/png": "[encoded data removed]",
      "text/plain": [
       "<Figure size 432x288 with 1 Axes>"
      ]
     },
     "metadata": {
      "needs_background": "light"
     },
     "output_type": "display_data"
    }
   ],
   "source": [
    "#Yeşil ışık süresi üyelik fonksiyonlarını çizme\n",
    "\n",
    "plt.plot(short_green_time,'r',linewidth=2,label=\"ShortGreen time\")\n",
    "plt.plot(medium_green_time,'b',linewidth=2,label=\"Green Medium time\")\n",
    "plt.plot(long_green_time,'y',linewidth=2,label=\"Long Green time\")\n",
    "plt.legend()\n",
    "plt.xlim(xmin=15)"
   ]
  },
  {
   "cell_type": "markdown",
   "metadata": {},
   "source": [
    "![Alternatif Metin](https://img.imgyukle.com/2023/05/31/r5JWxI.jpeg)"
   ]
  },
  {
   "cell_type": "code",
   "execution_count": 8,
   "metadata": {
    "id": "duOuRSk3lx0D"
   },
   "outputs": [],
   "source": [
    "def mamdani_traffic_light(vpm,vwt):\n",
    "\n",
    "  #Üyelik fonksiyonunu yorumlama\n",
    "  # \"vpm\" değeri ne kadar \"high_average_vpm\" üyelik fonksiyonuyla ilişkiliyse,\n",
    "  #\"is_more_car\" değişkeninin değeri de o kadar yüksek olur. \n",
    "\n",
    "  is_more_car = fuzz.interp_membership(vehicle_per_minute,high_average_vpm,vpm)\n",
    "  is_wait_long = fuzz.interp_membership(vehicle_average_waiting_time_second,high_average_vwt,vwt)\n",
    "\n",
    "  is_less_car = fuzz.interp_membership(vehicle_per_minute,low_average_vpm,vpm)\n",
    "  is_wait_short = fuzz.interp_membership(vehicle_average_waiting_time_second,low_average_vwt,vwt)\n",
    "\n",
    "  is_average_car = fuzz.interp_membership(vehicle_per_minute,medium_average_vpm,vpm)\n",
    "  is_average_wait = fuzz.interp_membership(vehicle_average_waiting_time_second,medium_average_vwt,vwt)\n",
    "\n",
    "  # Kural 1: Eğer vpm yüksek ve vwt yüksekse, trafik yoğundur\n",
    "  fire_rule_1 = min(is_wait_long,is_more_car)\n",
    "  r1_out = np.fmin(fire_rule_1,long_green_time)\n",
    "    \n",
    "    #fire_rule_1 değişkeni, \"is_wait_long\" ve \"is_more_car\" üyelik derecelerinin minimumunu temsil \n",
    "    #etmektedir. Bu kural, \"vpm yüksek ve vwt yüksekse\" durumunu ifade eder.\n",
    "    # r1_out değişkeni ise \"fire_rule_1\" değerini \"long_green_time\" ile bulanık mantık yöntemiyle\n",
    "    #kesişim alarak hesaplar. \n",
    "    \n",
    "\n",
    "  # Kural 2: vpm yüksek ve vwt orta ise, trafik yoğundur\n",
    "  fire_rule_2 = min(is_average_wait,is_more_car)\n",
    "  r2_out = np.fmin(fire_rule_2,long_green_time)\n",
    "\n",
    "  # Kural 3: vpm yüksek ve vwt düşükse, trafik orta düzeydedir\n",
    "  fire_rule_3 = min(is_wait_long,is_less_car)\n",
    "  r3_out = np.fmin(fire_rule_3,medium_green_time)\n",
    "\n",
    "  # Kural 4: vpm düşük ve vwt düşük ise trafik kısadır\n",
    "  fire_rule_4 = min(is_less_car,is_wait_short)\n",
    "  r4_out = np.fmin(fire_rule_4,short_green_time)\n",
    "\n",
    "  # Kural 5: vpm düşük ve vwt orta ise, trafik kısadır\n",
    "  fire_rule_5 = min(is_less_car,is_average_wait)\n",
    "  r5_out = np.fmin(fire_rule_5,short_green_time)\n",
    "\n",
    "  # Kural 6: vpm düşük ve vwt yüksekse, trafik uzundur\n",
    "  fire_rule_6 = min(is_less_car,is_wait_long)\n",
    "  r6_out = np.fmin(fire_rule_6,long_green_time)\n",
    "\n",
    "  # Kural 7: vpm orta ve vwt orta ise, trafik ortadır\n",
    "  fire_rule_7 = min(is_average_car,is_average_wait)\n",
    "  r7_out = np.fmin(fire_rule_7,medium_green_time)\n",
    "\n",
    "  # Kural 8: vpm orta ve vwt düşükse, trafik kısadır\n",
    "  fire_rule_8 = min(is_average_car,is_wait_short)\n",
    "  r8_out = np.fmin(fire_rule_8,short_green_time)\n",
    "\n",
    "  # Kural 9: vpm orta ve vwt yüksekse, trafik yüksektir\n",
    "  fire_rule_9 = min(is_average_car,is_wait_long)\n",
    "  r9_out = np.fmin(fire_rule_9,long_green_time)\n",
    "\n",
    "\n",
    "  fuz_out = np.fmax(r1_out,r2_out)\n",
    "  fuz_out = np.fmax(fuz_out,r3_out)\n",
    "  fuz_out = np.fmax(fuz_out,r4_out)\n",
    "  fuz_out = np.fmax(fuz_out,r5_out)\n",
    "  fuz_out = np.fmax(fuz_out,r6_out)\n",
    "  fuz_out = np.fmax(fuz_out,r7_out)\n",
    "  fuz_out = np.fmax(fuz_out,r8_out)\n",
    "  fuz_out = np.fmax(fuz_out,r9_out)\n",
    "    \n",
    "  # Ortalamaların Maksimumu ile Defuzzifikasyon(durulaştırma)\n",
    "  time_green_light=fuzz.defuzz(green_time_second,fuz_out,\"mom\")\n",
    "\n",
    "  print(f\"Dakikada ortalama araç {vpm} ve ortalama bekleme süresi {vwt} olduğunda, trafik ışığı süresi {time_green_light:.2f}\")\n",
    "  return time_green_light\n",
    "\n",
    "\n"
   ]
  },
  {
   "cell_type": "markdown",
   "metadata": {},
   "source": [
    "\n",
    "<span style=\"font-size:18px;\">Bu kod, Mamdani tipi bulanık mantık kullanarak trafik ışıklarının yeşil süresini hesaplayan bir fonksiyonu tanımlar.</span>\n",
    "\n",
    "<span style=\"font-size:18px;\">İlk adımda, giriş değişkenlerinin üyelik fonksiyonlarına ait uyelik derecesini (membership degree) hesaplamak için **fuzz.interp_membership** fonksiyonu kullanılır. Bu adımda, **vehicle_per_minute** ve **vehicle_average_waiting_time_second** değişkenleri için belirtilen üyelik fonksiyonlarına ait uyelik dereceleri hesaplanır.</span>\n",
    "\n",
    "<span style=\"font-size:18px;\">Ardından, belirli kurallar kullanılarak çıktı değişkeni için uyelik derecesi belirlenir. Her kural için **min** fonksiyonu kullanılarak uyelik dereceleri hesaplanır ve **np.fmin** fonksiyonu ile bu uyelik dereceleri çıktı üyelik fonksiyonlarıyla birleştirilir.</span>\n",
    "\n",
    "<span style=\"font-size:18px;\">Tüm kural çıktıları np.fmax fonksiyonu kullanılarak birleştirilir ve toplam uyelik derecesi hesaplanır.\n",
    "Son olarak, **fuzz.defuzz** fonksiyonu kullanılarak çıktı değeri hesaplanır. **\"mom\"** parametresi, maksimum üyelik değerlerinin ortalamasının kullanılmasını sağlar.</span>\n",
    "\n",
    "<span style=\"font-size:18px;\">Bu fonksiyon, verilen giriş değerlerine  dayanarak trafik ışıklarının yeşil süresini hesaplar ve bu süreyi döndürür.</span>"
   ]
  },
  {
   "cell_type": "code",
   "execution_count": 9,
   "metadata": {
    "colab": {
     "base_uri": "https://localhost:8080/"
    },
    "id": "IuupS9bXtif2",
    "outputId": "a80ec58e-fd4b-43fa-c1f8-76343bb0c94b"
   },
   "outputs": [
    {
     "name": "stdout",
     "output_type": "stream",
     "text": [
      "Dakikada ortalama araç 5 ve ortalama bekleme süresi 10 olduğunda, trafik ışığı süresi 22.50\n"
     ]
    }
   ],
   "source": [
    "#input olarak hafif trafik tanımlandığında\n",
    "output = mamdani_traffic_light(5,10)\n"
   ]
  },
  {
   "cell_type": "markdown",
   "metadata": {},
   "source": [
    "<span style=\"font-size:18px;\">**\"hafif trafik\"** durumunda dakikada ortalama 5 araç olduğunu ve ortalama bekleme süresinin 10 saniye olduğunu varsayar. Bu girdi değerlerine dayanarak mamdani_traffic_light fonksiyonunu çağırır ve trafik ışığı süresini hesaplar </span>"
   ]
  },
  {
   "cell_type": "code",
   "execution_count": 10,
   "metadata": {
    "colab": {
     "base_uri": "https://localhost:8080/"
    },
    "id": "xJwLkf5HuEZJ",
    "outputId": "7fe55684-fc6c-4049-e1fb-a71361548ec2"
   },
   "outputs": [
    {
     "name": "stdout",
     "output_type": "stream",
     "text": [
      "Dakikada ortalama araç 20 ve ortalama bekleme süresi 12 olduğunda, trafik ışığı süresi 97.00\n"
     ]
    }
   ],
   "source": [
    "#input is heavy traffic\n",
    "output = mamdani_traffic_light(20,12)\n"
   ]
  },
  {
   "cell_type": "markdown",
   "metadata": {},
   "source": [
    "![Alternatif Metin](https://img.imgyukle.com/2023/05/31/r5IrcI.jpeg)"
   ]
  },
  {
   "cell_type": "markdown",
   "metadata": {},
   "source": [
    "     "
   ]
  },
  {
   "cell_type": "markdown",
   "metadata": {},
   "source": [
    "    "
   ]
  },
  {
   "cell_type": "markdown",
   "metadata": {},
   "source": [
    "     "
   ]
  },
  {
   "cell_type": "markdown",
   "metadata": {},
   "source": [
    "    "
   ]
  },
  {
   "cell_type": "markdown",
   "metadata": {},
   "source": [
    "    "
   ]
  },
  {
   "cell_type": "markdown",
   "metadata": {},
   "source": [
    "![Alternatif Metin](https://img.imgyukle.com/2023/05/31/r5IuHS.jpeg)"
   ]
  },
  {
   "cell_type": "markdown",
   "metadata": {},
   "source": [
    "     "
   ]
  },
  {
   "cell_type": "markdown",
   "metadata": {},
   "source": [
    "     "
   ]
  },
  {
   "cell_type": "markdown",
   "metadata": {},
   "source": [
    "     "
   ]
  },
  {
   "cell_type": "markdown",
   "metadata": {},
   "source": [
    "<font  size=\"6\">**Referanslar**</font>"
   ]
  },
  {
   "cell_type": "markdown",
   "metadata": {},
   "source": [
    "https://www.hindawi.com/journals/mpe/2015/979160/"
   ]
  },
  {
   "cell_type": "markdown",
   "metadata": {},
   "source": [
    "https://trid.trb.org/view/702833"
   ]
  },
  {
   "cell_type": "markdown",
   "metadata": {},
   "source": [
    "https://www.hindawi.com/journals/mse/2014/694185/"
   ]
  },
  {
   "cell_type": "markdown",
   "metadata": {},
   "source": [
    "https://github.com/ctlong12/TrafficControllerFuzzyLogic"
   ]
  },
  {
   "cell_type": "code",
   "execution_count": null,
   "metadata": {},
   "outputs": [],
   "source": []
  }
 ],
 "metadata": {
  "anaconda-cloud": {},
  "colab": {
   "provenance": []
  },
  "gpuClass": "standard",
  "kernelspec": {
   "display_name": "Python 3",
   "language": "python",
   "name": "python3"
  },
  "language_info": {
   "codemirror_mode": {
    "name": "ipython",
    "version": 3
   },
   "file_extension": ".py",
   "mimetype": "text/x-python",
   "name": "python",
   "nbconvert_exporter": "python",
   "pygments_lexer": "ipython3",
   "version": "3.9.16"
  }
 },
 "nbformat": 4,
 "nbformat_minor": 1
}
