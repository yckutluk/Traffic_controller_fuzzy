{
 "cells": [
  {
   "cell_type": "code",
   "execution_count": 2,
   "id": "c56df79b",
   "metadata": {},
   "outputs": [
    {
     "name": "stdout",
     "output_type": "stream",
     "text": [
      "Collecting scikit-fuzzy\n",
      "  Downloading scikit-fuzzy-0.4.2.tar.gz (993 kB)\n",
      "\u001b[2K     \u001b[90m━━━━━━━━━━━━━━━━━━━━━━━━━━━━━━━━━━━━━━━\u001b[0m \u001b[32m994.0/994.0 kB\u001b[0m \u001b[31m3.2 MB/s\u001b[0m eta \u001b[36m0:00:00\u001b[0ma \u001b[36m0:00:01\u001b[0m\n",
      "\u001b[?25h  Preparing metadata (setup.py) ... \u001b[?25ldone\n",
      "\u001b[?25hRequirement already satisfied: numpy>=1.6.0 in /Users/mac/miniconda3/envs/tensorflow/lib/python3.9/site-packages (from scikit-fuzzy) (1.22.3)\n",
      "Requirement already satisfied: scipy>=0.9.0 in /Users/mac/miniconda3/envs/tensorflow/lib/python3.9/site-packages (from scikit-fuzzy) (1.7.3)\n",
      "Collecting networkx>=1.9.0\n",
      "  Downloading networkx-3.1-py3-none-any.whl (2.1 MB)\n",
      "\u001b[2K     \u001b[90m━━━━━━━━━━━━━━━━━━━━━━━━━━━━━━━━━━━━━━━━\u001b[0m \u001b[32m2.1/2.1 MB\u001b[0m \u001b[31m11.7 MB/s\u001b[0m eta \u001b[36m0:00:00\u001b[0m00:01\u001b[0m00:01\u001b[0m\n",
      "\u001b[?25hBuilding wheels for collected packages: scikit-fuzzy\n",
      "  Building wheel for scikit-fuzzy (setup.py) ... \u001b[?25ldone\n",
      "\u001b[?25h  Created wheel for scikit-fuzzy: filename=scikit_fuzzy-0.4.2-py3-none-any.whl size=894072 sha256=42228ea9d5dcf70e0c8a86dd768427ec87cd53158fdd3f50db2ca0a6362ee802\n",
      "  Stored in directory: /Users/mac/Library/Caches/pip/wheels/32/2c/a1/a90a7d7dd8448ec029f298a61f3490275e99b17aa348be675c\n",
      "Successfully built scikit-fuzzy\n",
      "Installing collected packages: networkx, scikit-fuzzy\n",
      "Successfully installed networkx-3.1 scikit-fuzzy-0.4.2\n"
     ]
    }
   ],
   "source": [
    "!pip install -U scikit-fuzzy\n"
   ]
  },
  {
   "cell_type": "code",
   "execution_count": 5,
   "id": "f57139c3",
   "metadata": {},
   "outputs": [
    {
     "name": "stdout",
     "output_type": "stream",
     "text": [
      "\n",
      "Start Program\n",
      "\n",
      "Signal Duration:  19.999999999999996\n"
     ]
    }
   ],
   "source": [
    "import numpy as np\n",
    "import skfuzzy as fuzz\n",
    "from skfuzzy import control as ctrl\n",
    "\n",
    "def main():\n",
    "    print('\\nStart Program\\n')\n",
    "\n",
    "    # Define input variables\n",
    "    cars_waiting = ctrl.Antecedent(np.arange(0, 11, 1), 'cars_waiting')\n",
    "    cars_incoming = ctrl.Antecedent(np.arange(0, 51, 1), 'cars_incoming')\n",
    "\n",
    "    # Define output variable\n",
    "    signal_duration = ctrl.Consequent(np.arange(0, 31, 1), 'signal_duration')\n",
    "\n",
    "    # Define membership functions for input variables\n",
    "    cars_waiting['low'] = fuzz.trimf(cars_waiting.universe, [0, 0, 5])\n",
    "    cars_waiting['medium'] = fuzz.trimf(cars_waiting.universe, [0, 5, 10])\n",
    "    cars_waiting['high'] = fuzz.trimf(cars_waiting.universe, [5, 10, 10])\n",
    "\n",
    "    cars_incoming['low'] = fuzz.trimf(cars_incoming.universe, [0, 0, 20])\n",
    "    cars_incoming['medium'] = fuzz.trimf(cars_incoming.universe, [0, 20, 40])\n",
    "    cars_incoming['high'] = fuzz.trimf(cars_incoming.universe, [20, 40, 50])\n",
    "\n",
    "    # Define membership functions for output variable\n",
    "    signal_duration['short'] = fuzz.trimf(signal_duration.universe, [0, 0, 10])\n",
    "    signal_duration['medium'] = fuzz.trimf(signal_duration.universe, [0, 10, 20])\n",
    "    signal_duration['long'] = fuzz.trimf(signal_duration.universe, [10, 20, 30])\n",
    "\n",
    "    # Define fuzzy rules\n",
    "    rule1 = ctrl.Rule(cars_waiting['low'] & cars_incoming['low'], signal_duration['short'])\n",
    "    rule2 = ctrl.Rule(cars_waiting['low'] & cars_incoming['medium'], signal_duration['short'])\n",
    "    rule3 = ctrl.Rule(cars_waiting['low'] & cars_incoming['high'], signal_duration['medium'])\n",
    "    rule4 = ctrl.Rule(cars_waiting['medium'] & cars_incoming['low'], signal_duration['short'])\n",
    "    rule5 = ctrl.Rule(cars_waiting['medium'] & cars_incoming['medium'], signal_duration['medium'])\n",
    "    rule6 = ctrl.Rule(cars_waiting['medium'] & cars_incoming['high'], signal_duration['medium'])\n",
    "    rule7 = ctrl.Rule(cars_waiting['high'] & cars_incoming['low'], signal_duration['medium'])\n",
    "    rule8 = ctrl.Rule(cars_waiting['high'] & cars_incoming['medium'], signal_duration['long'])\n",
    "    rule9 = ctrl.Rule(cars_waiting['high'] & cars_incoming['high'], signal_duration['long'])\n",
    "\n",
    "    # Create control system\n",
    "    traffic_light_ctrl = ctrl.ControlSystem([rule1, rule2, rule3, rule4, rule5, rule6, rule7, rule8, rule9])\n",
    "    traffic_light = ctrl.ControlSystemSimulation(traffic_light_ctrl)\n",
    "\n",
    "    # Set input values\n",
    "    traffic_light.input['cars_waiting'] = 10\n",
    "    traffic_light.input['cars_incoming'] = 33\n",
    "    \n",
    "    # Compute output\n",
    "    traffic_light.compute()\n",
    "\n",
    "    # Print output\n",
    "    print('Signal Duration: ', traffic_light.output['signal_duration'])\n",
    "\n",
    "# Run the main function\n",
    "main()\n"
   ]
  },
  {
   "cell_type": "code",
   "execution_count": null,
   "id": "26ee6fae",
   "metadata": {},
   "outputs": [],
   "source": []
  }
 ],
 "metadata": {
  "kernelspec": {
   "display_name": "Python 3.10 (tensorflow)",
   "language": "python",
   "name": "tensorflow"
  },
  "language_info": {
   "codemirror_mode": {
    "name": "ipython",
    "version": 3
   },
   "file_extension": ".py",
   "mimetype": "text/x-python",
   "name": "python",
   "nbconvert_exporter": "python",
   "pygments_lexer": "ipython3",
   "version": "3.9.16"
  }
 },
 "nbformat": 4,
 "nbformat_minor": 5
}
